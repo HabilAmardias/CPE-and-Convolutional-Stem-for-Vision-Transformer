{
 "cells": [
  {
   "cell_type": "code",
   "execution_count": 1,
   "id": "61b0b16c",
   "metadata": {
    "execution": {
     "iopub.execute_input": "2024-02-27T17:00:38.296819Z",
     "iopub.status.busy": "2024-02-27T17:00:38.296102Z",
     "iopub.status.idle": "2024-02-27T17:00:44.292652Z",
     "shell.execute_reply": "2024-02-27T17:00:44.291771Z"
    },
    "papermill": {
     "duration": 6.006964,
     "end_time": "2024-02-27T17:00:44.295267",
     "exception": false,
     "start_time": "2024-02-27T17:00:38.288303",
     "status": "completed"
    },
    "tags": []
   },
   "outputs": [],
   "source": [
    "import torch\n",
    "import numpy as np\n",
    "from pathlib import Path\n",
    "import cv2\n",
    "import math\n",
    "from sklearn.metrics import recall_score, accuracy_score, confusion_matrix, ConfusionMatrixDisplay, classification_report\n",
    "from collections.abc import Iterable"
   ]
  },
  {
   "cell_type": "code",
   "execution_count": 2,
   "id": "c0132638",
   "metadata": {
    "execution": {
     "iopub.execute_input": "2024-02-27T17:00:44.310379Z",
     "iopub.status.busy": "2024-02-27T17:00:44.309959Z",
     "iopub.status.idle": "2024-02-27T17:00:44.314814Z",
     "shell.execute_reply": "2024-02-27T17:00:44.313902Z"
    },
    "papermill": {
     "duration": 0.014542,
     "end_time": "2024-02-27T17:00:44.316846",
     "exception": false,
     "start_time": "2024-02-27T17:00:44.302304",
     "status": "completed"
    },
    "tags": []
   },
   "outputs": [],
   "source": [
    "batch_size=30\n",
    "patch_size=16\n",
    "img_size=224\n",
    "num_patches=(img_size//patch_size)**2\n",
    "p_dim=768\n",
    "heads_att=12\n",
    "num_encoder=11"
   ]
  },
  {
   "cell_type": "code",
   "execution_count": 3,
   "id": "647fee2f",
   "metadata": {
    "execution": {
     "iopub.execute_input": "2024-02-27T17:00:44.330727Z",
     "iopub.status.busy": "2024-02-27T17:00:44.330265Z",
     "iopub.status.idle": "2024-02-27T17:00:44.334805Z",
     "shell.execute_reply": "2024-02-27T17:00:44.333950Z"
    },
    "papermill": {
     "duration": 0.013447,
     "end_time": "2024-02-27T17:00:44.336698",
     "exception": false,
     "start_time": "2024-02-27T17:00:44.323251",
     "status": "completed"
    },
    "tags": []
   },
   "outputs": [],
   "source": [
    "target_class={0:\"Normal\",1:\"Tuberculosis\"}\n",
    "Normal_dir=Path(\"/kaggle/input/tuberculosis-tb-chest-xray-dataset/TB_Chest_Radiography_Database/Normal/\")\n",
    "TB_dir=Path(\"/kaggle/input/tuberculosis-tb-chest-xray-dataset/TB_Chest_Radiography_Database/Tuberculosis/\")"
   ]
  },
  {
   "cell_type": "code",
   "execution_count": 4,
   "id": "14bf7d6b",
   "metadata": {
    "execution": {
     "iopub.execute_input": "2024-02-27T17:00:44.349952Z",
     "iopub.status.busy": "2024-02-27T17:00:44.349692Z",
     "iopub.status.idle": "2024-02-27T17:00:44.545253Z",
     "shell.execute_reply": "2024-02-27T17:00:44.544460Z"
    },
    "papermill": {
     "duration": 0.204594,
     "end_time": "2024-02-27T17:00:44.547374",
     "exception": false,
     "start_time": "2024-02-27T17:00:44.342780",
     "status": "completed"
    },
    "tags": []
   },
   "outputs": [],
   "source": [
    "Normal_images:list=sorted(list(map(str, list(Normal_dir.glob(\"*.png\")))))\n",
    "TB_images:list=sorted(list(map(str, list(TB_dir.glob(\"*.png\")))))\n",
    "Normal_labels:list=[0]*len(Normal_images)\n",
    "TB_labels:list=[1]*len(TB_images)"
   ]
  },
  {
   "cell_type": "code",
   "execution_count": 5,
   "id": "86cf9028",
   "metadata": {
    "execution": {
     "iopub.execute_input": "2024-02-27T17:00:44.561501Z",
     "iopub.status.busy": "2024-02-27T17:00:44.561211Z",
     "iopub.status.idle": "2024-02-27T17:00:44.571496Z",
     "shell.execute_reply": "2024-02-27T17:00:44.570563Z"
    },
    "papermill": {
     "duration": 0.019955,
     "end_time": "2024-02-27T17:00:44.573734",
     "exception": false,
     "start_time": "2024-02-27T17:00:44.553779",
     "status": "completed"
    },
    "tags": []
   },
   "outputs": [
    {
     "data": {
      "text/plain": [
       "((4200,), (4200,))"
      ]
     },
     "execution_count": 5,
     "metadata": {},
     "output_type": "execute_result"
    }
   ],
   "source": [
    "images=np.array(Normal_images+TB_images)\n",
    "labels=np.array(Normal_labels+TB_labels)\n",
    "images.shape, labels.shape"
   ]
  },
  {
   "cell_type": "code",
   "execution_count": 6,
   "id": "a48c24f7",
   "metadata": {
    "execution": {
     "iopub.execute_input": "2024-02-27T17:00:44.587981Z",
     "iopub.status.busy": "2024-02-27T17:00:44.587443Z",
     "iopub.status.idle": "2024-02-27T17:00:44.616410Z",
     "shell.execute_reply": "2024-02-27T17:00:44.615548Z"
    },
    "papermill": {
     "duration": 0.038311,
     "end_time": "2024-02-27T17:00:44.618630",
     "exception": false,
     "start_time": "2024-02-27T17:00:44.580319",
     "status": "completed"
    },
    "tags": []
   },
   "outputs": [
    {
     "data": {
      "text/plain": [
       "((3360,), (420,), (420,))"
      ]
     },
     "execution_count": 6,
     "metadata": {},
     "output_type": "execute_result"
    }
   ],
   "source": [
    "from sklearn.model_selection import train_test_split\n",
    "x_train, x_valid, y_train, y_valid = train_test_split(images,labels,test_size=0.2,random_state=42)\n",
    "x_valid,x_test,y_valid,y_test=train_test_split(x_valid,y_valid,test_size=0.5,random_state=42)\n",
    "(x_train.shape,x_valid.shape,x_test.shape)"
   ]
  },
  {
   "cell_type": "code",
   "execution_count": 7,
   "id": "ee702207",
   "metadata": {
    "execution": {
     "iopub.execute_input": "2024-02-27T17:00:44.633578Z",
     "iopub.status.busy": "2024-02-27T17:00:44.632920Z",
     "iopub.status.idle": "2024-02-27T17:00:44.638936Z",
     "shell.execute_reply": "2024-02-27T17:00:44.638043Z"
    },
    "papermill": {
     "duration": 0.015373,
     "end_time": "2024-02-27T17:00:44.640916",
     "exception": false,
     "start_time": "2024-02-27T17:00:44.625543",
     "status": "completed"
    },
    "tags": []
   },
   "outputs": [],
   "source": [
    "def image_preprocessing(path):\n",
    "    img=cv2.imread(path)\n",
    "    img=cv2.cvtColor(img,cv2.COLOR_BGR2GRAY)\n",
    "    clahe=cv2.createCLAHE(clipLimit=2)\n",
    "    img=clahe.apply(img)\n",
    "    img=cv2.GaussianBlur(img,(5,5),0,borderType=cv2.BORDER_CONSTANT)\n",
    "    img=cv2.resize(img,(img_size,img_size),interpolation=cv2.INTER_LINEAR)\n",
    "    img=cv2.cvtColor(img,cv2.COLOR_GRAY2RGB)\n",
    "    img=np.moveaxis(img,-1,0)\n",
    "    return img"
   ]
  },
  {
   "cell_type": "code",
   "execution_count": 8,
   "id": "13b8e1fe",
   "metadata": {
    "execution": {
     "iopub.execute_input": "2024-02-27T17:00:44.655599Z",
     "iopub.status.busy": "2024-02-27T17:00:44.655340Z",
     "iopub.status.idle": "2024-02-27T17:01:46.276735Z",
     "shell.execute_reply": "2024-02-27T17:01:46.275865Z"
    },
    "papermill": {
     "duration": 61.639356,
     "end_time": "2024-02-27T17:01:46.287325",
     "exception": false,
     "start_time": "2024-02-27T17:00:44.647969",
     "status": "completed"
    },
    "tags": []
   },
   "outputs": [
    {
     "data": {
      "text/plain": [
       "((3360, 3, 224, 224), (420, 3, 224, 224), (420, 3, 224, 224))"
      ]
     },
     "execution_count": 8,
     "metadata": {},
     "output_type": "execute_result"
    }
   ],
   "source": [
    "x_train=np.array(list(map(image_preprocessing,x_train))).astype(np.float32)\n",
    "x_valid=np.array(list(map(image_preprocessing,x_valid))).astype(np.float32)\n",
    "x_test=np.array(list(map(image_preprocessing,x_test))).astype(np.float32)\n",
    "x_train.shape,x_valid.shape,x_test.shape"
   ]
  },
  {
   "cell_type": "code",
   "execution_count": 9,
   "id": "84665817",
   "metadata": {
    "execution": {
     "iopub.execute_input": "2024-02-27T17:01:46.302683Z",
     "iopub.status.busy": "2024-02-27T17:01:46.301817Z",
     "iopub.status.idle": "2024-02-27T17:01:47.135240Z",
     "shell.execute_reply": "2024-02-27T17:01:47.134240Z"
    },
    "papermill": {
     "duration": 0.843598,
     "end_time": "2024-02-27T17:01:47.137628",
     "exception": false,
     "start_time": "2024-02-27T17:01:46.294030",
     "status": "completed"
    },
    "tags": []
   },
   "outputs": [],
   "source": [
    "device=(\"cuda\" if torch.cuda.is_available() else \"cpu\")\n",
    "x_train=torch.from_numpy(x_train).to(device)\n",
    "x_valid=torch.from_numpy(x_valid).to(device)\n",
    "x_test=torch.from_numpy(x_test).to(device)\n",
    "y_train=torch.from_numpy(y_train).to(device)\n",
    "y_valid=torch.from_numpy(y_valid).to(device)\n",
    "y_test=torch.from_numpy(y_test).to(device)"
   ]
  },
  {
   "cell_type": "code",
   "execution_count": 10,
   "id": "4276d51b",
   "metadata": {
    "execution": {
     "iopub.execute_input": "2024-02-27T17:01:47.153423Z",
     "iopub.status.busy": "2024-02-27T17:01:47.152602Z",
     "iopub.status.idle": "2024-02-27T17:01:47.160094Z",
     "shell.execute_reply": "2024-02-27T17:01:47.159264Z"
    },
    "papermill": {
     "duration": 0.017061,
     "end_time": "2024-02-27T17:01:47.161947",
     "exception": false,
     "start_time": "2024-02-27T17:01:47.144886",
     "status": "completed"
    },
    "tags": []
   },
   "outputs": [],
   "source": [
    "class StandardScaler():\n",
    "    def __init__(self) -> None:\n",
    "        self.mean=None\n",
    "        self.std=None\n",
    "    def fit(self,tensor:torch.Tensor) -> None:\n",
    "        self.mean=tensor.mean((0,2,3),keepdim=True)\n",
    "        self.std=tensor.std((0,2,3),keepdim=True)\n",
    "    def transform(self,tensor:torch.Tensor) -> torch.Tensor:\n",
    "        scaled=(tensor-self.mean)/(self.std+1e-5)\n",
    "        return scaled\n",
    "    def fit_transform(self,tensor:torch.Tensor) -> torch.Tensor:\n",
    "        self.fit(tensor=tensor)\n",
    "        scaled=self.transform(tensor=tensor)\n",
    "        return scaled"
   ]
  },
  {
   "cell_type": "code",
   "execution_count": 11,
   "id": "a5de0d07",
   "metadata": {
    "execution": {
     "iopub.execute_input": "2024-02-27T17:01:47.177550Z",
     "iopub.status.busy": "2024-02-27T17:01:47.176788Z",
     "iopub.status.idle": "2024-02-27T17:01:47.286650Z",
     "shell.execute_reply": "2024-02-27T17:01:47.285652Z"
    },
    "papermill": {
     "duration": 0.119944,
     "end_time": "2024-02-27T17:01:47.288996",
     "exception": false,
     "start_time": "2024-02-27T17:01:47.169052",
     "status": "completed"
    },
    "tags": []
   },
   "outputs": [],
   "source": [
    "scaler=StandardScaler()\n",
    "x_train=scaler.fit_transform(x_train)\n",
    "x_test=scaler.transform(x_test)\n",
    "x_valid=scaler.transform(x_valid)"
   ]
  },
  {
   "cell_type": "code",
   "execution_count": 12,
   "id": "72830593",
   "metadata": {
    "execution": {
     "iopub.execute_input": "2024-02-27T17:01:47.305009Z",
     "iopub.status.busy": "2024-02-27T17:01:47.304748Z",
     "iopub.status.idle": "2024-02-27T17:01:47.308760Z",
     "shell.execute_reply": "2024-02-27T17:01:47.307902Z"
    },
    "papermill": {
     "duration": 0.014204,
     "end_time": "2024-02-27T17:01:47.310629",
     "exception": false,
     "start_time": "2024-02-27T17:01:47.296425",
     "status": "completed"
    },
    "tags": []
   },
   "outputs": [],
   "source": [
    "from torch.utils.data import TensorDataset\n",
    "from torch.utils.data import DataLoader"
   ]
  },
  {
   "cell_type": "code",
   "execution_count": 13,
   "id": "7d76cc18",
   "metadata": {
    "execution": {
     "iopub.execute_input": "2024-02-27T17:01:47.326454Z",
     "iopub.status.busy": "2024-02-27T17:01:47.325967Z",
     "iopub.status.idle": "2024-02-27T17:01:47.331688Z",
     "shell.execute_reply": "2024-02-27T17:01:47.330757Z"
    },
    "papermill": {
     "duration": 0.015764,
     "end_time": "2024-02-27T17:01:47.333766",
     "exception": false,
     "start_time": "2024-02-27T17:01:47.318002",
     "status": "completed"
    },
    "tags": []
   },
   "outputs": [],
   "source": [
    "train_dataset=TensorDataset(x_train,y_train)\n",
    "val_dataset=TensorDataset(x_valid,y_valid)\n",
    "test_dataset=TensorDataset(x_test,y_test)\n",
    "train_loader=DataLoader(train_dataset,batch_size=batch_size,shuffle=False)\n",
    "val_loader=DataLoader(val_dataset,batch_size=batch_size,shuffle=False)\n",
    "test_loader=DataLoader(test_dataset,batch_size=batch_size,shuffle=False)"
   ]
  },
  {
   "cell_type": "code",
   "execution_count": 14,
   "id": "34bf50b2",
   "metadata": {
    "execution": {
     "iopub.execute_input": "2024-02-27T17:01:47.349272Z",
     "iopub.status.busy": "2024-02-27T17:01:47.348968Z",
     "iopub.status.idle": "2024-02-27T17:01:47.357555Z",
     "shell.execute_reply": "2024-02-27T17:01:47.356629Z"
    },
    "papermill": {
     "duration": 0.018562,
     "end_time": "2024-02-27T17:01:47.359670",
     "exception": false,
     "start_time": "2024-02-27T17:01:47.341108",
     "status": "completed"
    },
    "tags": []
   },
   "outputs": [],
   "source": [
    "class EncoderBlock(torch.nn.Module):\n",
    "    def __init__(self, projection_dim:int, num_heads:int, num_patches:int):\n",
    "        super().__init__()\n",
    "        self.projection_dim=projection_dim\n",
    "        self.num_heads=num_heads\n",
    "        self.num_patches=num_patches\n",
    "\n",
    "        self.norm1=torch.nn.LayerNorm(self.projection_dim)\n",
    "        self.norm2=torch.nn.LayerNorm(self.projection_dim)\n",
    "        self.attention=torch.nn.MultiheadAttention(self.projection_dim,self.num_heads,batch_first=True)\n",
    "        self.mlp=torch.nn.Sequential(\n",
    "            torch.nn.Linear(self.projection_dim,self.projection_dim*4),\n",
    "            torch.nn.GELU(),\n",
    "            torch.nn.Linear(self.projection_dim*4,self.projection_dim),\n",
    "        )\n",
    "\n",
    "    def forward(self,x):\n",
    "        x1=self.norm1(x)\n",
    "        attention=self.attention(x1,x1,x1)[0]\n",
    "        x2=attention+x\n",
    "        x3=self.norm2(x2)\n",
    "        x3=self.mlp(x3)\n",
    "        out=x2+x3\n",
    "        return out"
   ]
  },
  {
   "cell_type": "code",
   "execution_count": 15,
   "id": "45345683",
   "metadata": {
    "execution": {
     "iopub.execute_input": "2024-02-27T17:01:47.375538Z",
     "iopub.status.busy": "2024-02-27T17:01:47.375275Z",
     "iopub.status.idle": "2024-02-27T17:01:47.381702Z",
     "shell.execute_reply": "2024-02-27T17:01:47.380757Z"
    },
    "papermill": {
     "duration": 0.016378,
     "end_time": "2024-02-27T17:01:47.383606",
     "exception": false,
     "start_time": "2024-02-27T17:01:47.367228",
     "status": "completed"
    },
    "tags": []
   },
   "outputs": [],
   "source": [
    "class PEG(torch.nn.Module):\n",
    "    def __init__(self,dim:int,k:int=3):\n",
    "        super().__init__()\n",
    "        self.pos=torch.nn.Conv2d(dim,dim,k,1,1,groups=dim)\n",
    "    def forward(self,x,H,W):\n",
    "        B,N,C=x.shape\n",
    "        feat_tokens=x\n",
    "        feat_tokens=feat_tokens.transpose(1,2).view(B,C,H,W)\n",
    "        x=self.pos(feat_tokens)+feat_tokens\n",
    "        x=x.flatten(2).transpose(1,2)\n",
    "        return x"
   ]
  },
  {
   "cell_type": "code",
   "execution_count": 16,
   "id": "c0d52271",
   "metadata": {
    "execution": {
     "iopub.execute_input": "2024-02-27T17:01:47.398996Z",
     "iopub.status.busy": "2024-02-27T17:01:47.398757Z",
     "iopub.status.idle": "2024-02-27T17:01:47.404669Z",
     "shell.execute_reply": "2024-02-27T17:01:47.403630Z"
    },
    "papermill": {
     "duration": 0.015817,
     "end_time": "2024-02-27T17:01:47.406643",
     "exception": false,
     "start_time": "2024-02-27T17:01:47.390826",
     "status": "completed"
    },
    "tags": []
   },
   "outputs": [],
   "source": [
    "class Conv2DNormAct(torch.nn.Module):\n",
    "    def __init__(self,in_chan:int,out_chan:int,kernel:int,stride:int) -> None:\n",
    "        super().__init__()\n",
    "        self.block=torch.nn.Sequential(\n",
    "            torch.nn.Conv2d(in_chan,out_chan,kernel,stride,1),\n",
    "            torch.nn.BatchNorm2d(out_chan,momentum=0.99),\n",
    "            torch.nn.ReLU()\n",
    "        )\n",
    "    def forward(self,x):\n",
    "        return self.block(x)"
   ]
  },
  {
   "cell_type": "code",
   "execution_count": 17,
   "id": "bfb126ba",
   "metadata": {
    "execution": {
     "iopub.execute_input": "2024-02-27T17:01:47.422430Z",
     "iopub.status.busy": "2024-02-27T17:01:47.422144Z",
     "iopub.status.idle": "2024-02-27T17:01:47.429185Z",
     "shell.execute_reply": "2024-02-27T17:01:47.428360Z"
    },
    "papermill": {
     "duration": 0.01704,
     "end_time": "2024-02-27T17:01:47.431046",
     "exception": false,
     "start_time": "2024-02-27T17:01:47.414006",
     "status": "completed"
    },
    "tags": []
   },
   "outputs": [],
   "source": [
    "class ConvStem(torch.nn.Module):\n",
    "    def __init__(self, \n",
    "                 in_chan:Iterable[int], \n",
    "                 out_chan:Iterable[int], \n",
    "                 kernels:Iterable[int], \n",
    "                 strides:Iterable[int], \n",
    "                 dim:int, \n",
    "                 num_patches:int) -> None:\n",
    "        super().__init__()\n",
    "        self.dim=dim\n",
    "        self.num_patches=num_patches\n",
    "        self.stem=torch.nn.Sequential()\n",
    "        for i in range(len(in_chan)):\n",
    "            self.stem.add_module(f'conv_bn_act_{i}',Conv2DNormAct(in_chan[i],out_chan[i],kernels[i],strides[i]))\n",
    "        self.stem.add_module('identity_conv',torch.nn.Conv2d(out_chan[-1],dim,1))\n",
    "    def forward(self,x:torch.Tensor):\n",
    "        h:torch.Tensor=self.stem(x)\n",
    "        return h"
   ]
  },
  {
   "cell_type": "code",
   "execution_count": 18,
   "id": "2a316d11",
   "metadata": {
    "execution": {
     "iopub.execute_input": "2024-02-27T17:01:47.446850Z",
     "iopub.status.busy": "2024-02-27T17:01:47.446243Z",
     "iopub.status.idle": "2024-02-27T17:01:47.458278Z",
     "shell.execute_reply": "2024-02-27T17:01:47.457444Z"
    },
    "papermill": {
     "duration": 0.022033,
     "end_time": "2024-02-27T17:01:47.460270",
     "exception": false,
     "start_time": "2024-02-27T17:01:47.438237",
     "status": "completed"
    },
    "tags": []
   },
   "outputs": [],
   "source": [
    "class ViT(torch.nn.Module):\n",
    "    def __init__(self,\n",
    "                 patch_size:int,\n",
    "                 num_patches:int,\n",
    "                 projection_dim:int,\n",
    "                 num_heads:int,\n",
    "                 num_encoder:int):\n",
    "        super().__init__()\n",
    "        self.patch_size=patch_size\n",
    "        self.num_patches=num_patches\n",
    "        self.projection_dim=projection_dim\n",
    "        self.num_heads=num_heads\n",
    "        self.num_encoder=num_encoder\n",
    "        \n",
    "        self.conv_stem=ConvStem([3, 64, 128, 128, 256, 256],\n",
    "                                [64, 128, 128, 256, 256, 512],\n",
    "                                [3]*6,\n",
    "                                [2,2,1,2,1,2],\n",
    "                                self.projection_dim,\n",
    "                                self.num_patches)\n",
    "        self.peg=PEG(self.projection_dim,3)\n",
    "        self.blocks = torch.nn.ModuleList([\n",
    "            EncoderBlock(self.projection_dim, self.num_heads, self.num_patches) for _ in range(self.num_encoder)\n",
    "        ])\n",
    "        self.ln_out=torch.nn.LayerNorm(self.projection_dim)\n",
    "        \n",
    "        self.out=torch.nn.Sequential(\n",
    "            torch.nn.Linear(self.projection_dim,1),\n",
    "            torch.nn.Sigmoid()\n",
    "        )\n",
    "    def forward(self,images:torch.Tensor):\n",
    "        batch_size=images.size()[0]\n",
    "        x=self.conv_stem(images).reshape(batch_size,self.projection_dim,self.num_patches).permute(0, 2, 1)\n",
    "        encoded=x\n",
    "\n",
    "        for i,block in enumerate(self.blocks):\n",
    "            encoded=block(encoded)\n",
    "            if i==0:\n",
    "                _H,_W=int(self.num_patches**0.5),int(self.num_patches**0.5)\n",
    "                encoded=self.peg(encoded,_H,_W)\n",
    "        \n",
    "        rep=encoded.mean(dim=1)\n",
    "        rep=self.ln_out(rep)\n",
    "        output=self.out(rep)\n",
    "        return output"
   ]
  },
  {
   "cell_type": "code",
   "execution_count": 19,
   "id": "18075e8d",
   "metadata": {
    "execution": {
     "iopub.execute_input": "2024-02-27T17:01:47.476007Z",
     "iopub.status.busy": "2024-02-27T17:01:47.475548Z",
     "iopub.status.idle": "2024-02-27T17:01:48.233719Z",
     "shell.execute_reply": "2024-02-27T17:01:48.232638Z"
    },
    "papermill": {
     "duration": 0.768748,
     "end_time": "2024-02-27T17:01:48.236142",
     "exception": false,
     "start_time": "2024-02-27T17:01:47.467394",
     "status": "completed"
    },
    "tags": []
   },
   "outputs": [
    {
     "name": "stdout",
     "output_type": "stream",
     "text": [
      "ViT(\n",
      "  (conv_stem): ConvStem(\n",
      "    (stem): Sequential(\n",
      "      (conv_bn_act_0): Conv2DNormAct(\n",
      "        (block): Sequential(\n",
      "          (0): Conv2d(3, 64, kernel_size=(3, 3), stride=(2, 2), padding=(1, 1))\n",
      "          (1): BatchNorm2d(64, eps=1e-05, momentum=0.99, affine=True, track_running_stats=True)\n",
      "          (2): ReLU()\n",
      "        )\n",
      "      )\n",
      "      (conv_bn_act_1): Conv2DNormAct(\n",
      "        (block): Sequential(\n",
      "          (0): Conv2d(64, 128, kernel_size=(3, 3), stride=(2, 2), padding=(1, 1))\n",
      "          (1): BatchNorm2d(128, eps=1e-05, momentum=0.99, affine=True, track_running_stats=True)\n",
      "          (2): ReLU()\n",
      "        )\n",
      "      )\n",
      "      (conv_bn_act_2): Conv2DNormAct(\n",
      "        (block): Sequential(\n",
      "          (0): Conv2d(128, 128, kernel_size=(3, 3), stride=(1, 1), padding=(1, 1))\n",
      "          (1): BatchNorm2d(128, eps=1e-05, momentum=0.99, affine=True, track_running_stats=True)\n",
      "          (2): ReLU()\n",
      "        )\n",
      "      )\n",
      "      (conv_bn_act_3): Conv2DNormAct(\n",
      "        (block): Sequential(\n",
      "          (0): Conv2d(128, 256, kernel_size=(3, 3), stride=(2, 2), padding=(1, 1))\n",
      "          (1): BatchNorm2d(256, eps=1e-05, momentum=0.99, affine=True, track_running_stats=True)\n",
      "          (2): ReLU()\n",
      "        )\n",
      "      )\n",
      "      (conv_bn_act_4): Conv2DNormAct(\n",
      "        (block): Sequential(\n",
      "          (0): Conv2d(256, 256, kernel_size=(3, 3), stride=(1, 1), padding=(1, 1))\n",
      "          (1): BatchNorm2d(256, eps=1e-05, momentum=0.99, affine=True, track_running_stats=True)\n",
      "          (2): ReLU()\n",
      "        )\n",
      "      )\n",
      "      (conv_bn_act_5): Conv2DNormAct(\n",
      "        (block): Sequential(\n",
      "          (0): Conv2d(256, 512, kernel_size=(3, 3), stride=(2, 2), padding=(1, 1))\n",
      "          (1): BatchNorm2d(512, eps=1e-05, momentum=0.99, affine=True, track_running_stats=True)\n",
      "          (2): ReLU()\n",
      "        )\n",
      "      )\n",
      "      (identity_conv): Conv2d(512, 768, kernel_size=(1, 1), stride=(1, 1))\n",
      "    )\n",
      "  )\n",
      "  (peg): PEG(\n",
      "    (pos): Conv2d(768, 768, kernel_size=(3, 3), stride=(1, 1), padding=(1, 1), groups=768)\n",
      "  )\n",
      "  (blocks): ModuleList(\n",
      "    (0-10): 11 x EncoderBlock(\n",
      "      (norm1): LayerNorm((768,), eps=1e-05, elementwise_affine=True)\n",
      "      (norm2): LayerNorm((768,), eps=1e-05, elementwise_affine=True)\n",
      "      (attention): MultiheadAttention(\n",
      "        (out_proj): NonDynamicallyQuantizableLinear(in_features=768, out_features=768, bias=True)\n",
      "      )\n",
      "      (mlp): Sequential(\n",
      "        (0): Linear(in_features=768, out_features=3072, bias=True)\n",
      "        (1): GELU(approximate='none')\n",
      "        (2): Linear(in_features=3072, out_features=768, bias=True)\n",
      "      )\n",
      "    )\n",
      "  )\n",
      "  (ln_out): LayerNorm((768,), eps=1e-05, elementwise_affine=True)\n",
      "  (out): Sequential(\n",
      "    (0): Linear(in_features=768, out_features=1, bias=True)\n",
      "    (1): Sigmoid()\n",
      "  )\n",
      ")\n"
     ]
    }
   ],
   "source": [
    "model=ViT(patch_size=patch_size,\n",
    "          num_patches=num_patches,\n",
    "          projection_dim=p_dim,\n",
    "          num_heads=heads_att,\n",
    "          num_encoder=num_encoder).to(device)\n",
    "print(model)"
   ]
  },
  {
   "cell_type": "code",
   "execution_count": 20,
   "id": "1f159abf",
   "metadata": {
    "execution": {
     "iopub.execute_input": "2024-02-27T17:01:48.253175Z",
     "iopub.status.busy": "2024-02-27T17:01:48.252828Z",
     "iopub.status.idle": "2024-02-27T17:01:48.259569Z",
     "shell.execute_reply": "2024-02-27T17:01:48.258677Z"
    },
    "papermill": {
     "duration": 0.017308,
     "end_time": "2024-02-27T17:01:48.261610",
     "exception": false,
     "start_time": "2024-02-27T17:01:48.244302",
     "status": "completed"
    },
    "tags": []
   },
   "outputs": [
    {
     "data": {
      "text/plain": [
       "80661889"
      ]
     },
     "execution_count": 20,
     "metadata": {},
     "output_type": "execute_result"
    }
   ],
   "source": [
    "vit_total_params = sum(p.numel() for p in model.parameters())\n",
    "vit_total_params"
   ]
  },
  {
   "cell_type": "code",
   "execution_count": 21,
   "id": "2cf92d90",
   "metadata": {
    "execution": {
     "iopub.execute_input": "2024-02-27T17:01:48.278213Z",
     "iopub.status.busy": "2024-02-27T17:01:48.277944Z",
     "iopub.status.idle": "2024-02-27T17:01:51.243643Z",
     "shell.execute_reply": "2024-02-27T17:01:51.242532Z"
    },
    "papermill": {
     "duration": 2.976392,
     "end_time": "2024-02-27T17:01:51.246044",
     "exception": false,
     "start_time": "2024-02-27T17:01:48.269652",
     "status": "completed"
    },
    "tags": []
   },
   "outputs": [
    {
     "name": "stdout",
     "output_type": "stream",
     "text": [
      "Adjusting learning rate of group 0 to 1.0000e-03.\n"
     ]
    }
   ],
   "source": [
    "epoch=100\n",
    "loss_fn=torch.nn.BCELoss()\n",
    "opt=torch.optim.SGD(model.parameters(),lr=1e-3,momentum=0.9)\n",
    "scheduler=torch.optim.lr_scheduler.CosineAnnealingLR(optimizer=opt,T_max=epoch,verbose=True)"
   ]
  },
  {
   "cell_type": "code",
   "execution_count": 22,
   "id": "aebbe7fd",
   "metadata": {
    "_kg_hide-output": true,
    "execution": {
     "iopub.execute_input": "2024-02-27T17:01:51.265416Z",
     "iopub.status.busy": "2024-02-27T17:01:51.264963Z",
     "iopub.status.idle": "2024-02-27T17:48:48.171676Z",
     "shell.execute_reply": "2024-02-27T17:48:48.170730Z"
    },
    "papermill": {
     "duration": 2816.918884,
     "end_time": "2024-02-27T17:48:48.174021",
     "exception": false,
     "start_time": "2024-02-27T17:01:51.255137",
     "status": "completed"
    },
    "tags": []
   },
   "outputs": [
    {
     "name": "stdout",
     "output_type": "stream",
     "text": [
      "Epoch: 1\n",
      "\n",
      "Train Error: \n",
      " Avg loss: 0.327344 \n",
      "\n",
      "Test Error: \n",
      " Avg loss: 0.120843 \n",
      "\n",
      "Adjusting learning rate of group 0 to 9.9975e-04.\n",
      "Epoch: 2\n",
      "\n",
      "Train Error: \n",
      " Avg loss: 0.119146 \n",
      "\n",
      "Test Error: \n",
      " Avg loss: 0.082191 \n",
      "\n",
      "Adjusting learning rate of group 0 to 9.9901e-04.\n",
      "Epoch: 3\n",
      "\n",
      "Train Error: \n",
      " Avg loss: 0.090485 \n",
      "\n",
      "Test Error: \n",
      " Avg loss: 0.179513 \n",
      "\n",
      "Adjusting learning rate of group 0 to 9.9778e-04.\n",
      "Epoch: 4\n",
      "\n",
      "Train Error: \n",
      " Avg loss: 0.068344 \n",
      "\n",
      "Test Error: \n",
      " Avg loss: 0.141049 \n",
      "\n",
      "Adjusting learning rate of group 0 to 9.9606e-04.\n",
      "Epoch: 5\n",
      "\n",
      "Train Error: \n",
      " Avg loss: 0.065530 \n",
      "\n",
      "Test Error: \n",
      " Avg loss: 0.224270 \n",
      "\n",
      "Adjusting learning rate of group 0 to 9.9384e-04.\n",
      "Epoch: 6\n",
      "\n",
      "Train Error: \n",
      " Avg loss: 0.041437 \n",
      "\n",
      "Test Error: \n",
      " Avg loss: 0.074275 \n",
      "\n",
      "Adjusting learning rate of group 0 to 9.9114e-04.\n",
      "Epoch: 7\n",
      "\n",
      "Train Error: \n",
      " Avg loss: 0.020549 \n",
      "\n",
      "Test Error: \n",
      " Avg loss: 0.095787 \n",
      "\n",
      "Adjusting learning rate of group 0 to 9.8796e-04.\n",
      "Epoch: 8\n",
      "\n",
      "Train Error: \n",
      " Avg loss: 0.017159 \n",
      "\n",
      "Test Error: \n",
      " Avg loss: 0.128512 \n",
      "\n",
      "Adjusting learning rate of group 0 to 9.8429e-04.\n",
      "Epoch: 9\n",
      "\n",
      "Train Error: \n",
      " Avg loss: 0.021998 \n",
      "\n",
      "Test Error: \n",
      " Avg loss: 0.066046 \n",
      "\n",
      "Adjusting learning rate of group 0 to 9.8015e-04.\n",
      "Epoch: 10\n",
      "\n",
      "Train Error: \n",
      " Avg loss: 0.047172 \n",
      "\n",
      "Test Error: \n",
      " Avg loss: 0.047907 \n",
      "\n",
      "Adjusting learning rate of group 0 to 9.7553e-04.\n",
      "Epoch: 11\n",
      "\n",
      "Train Error: \n",
      " Avg loss: 0.004508 \n",
      "\n",
      "Test Error: \n",
      " Avg loss: 0.050250 \n",
      "\n",
      "Adjusting learning rate of group 0 to 9.7044e-04.\n",
      "Epoch: 12\n",
      "\n",
      "Train Error: \n",
      " Avg loss: 0.001789 \n",
      "\n",
      "Test Error: \n",
      " Avg loss: 0.052925 \n",
      "\n",
      "Adjusting learning rate of group 0 to 9.6489e-04.\n",
      "Epoch: 13\n",
      "\n",
      "Train Error: \n",
      " Avg loss: 0.021886 \n",
      "\n",
      "Test Error: \n",
      " Avg loss: 0.065386 \n",
      "\n",
      "Adjusting learning rate of group 0 to 9.5888e-04.\n",
      "Epoch: 14\n",
      "\n",
      "Train Error: \n",
      " Avg loss: 0.014777 \n",
      "\n",
      "Test Error: \n",
      " Avg loss: 0.037890 \n",
      "\n",
      "Adjusting learning rate of group 0 to 9.5241e-04.\n",
      "Epoch: 15\n",
      "\n",
      "Train Error: \n",
      " Avg loss: 0.001062 \n",
      "\n",
      "Test Error: \n",
      " Avg loss: 0.041195 \n",
      "\n",
      "Adjusting learning rate of group 0 to 9.4550e-04.\n",
      "Epoch: 16\n",
      "\n",
      "Train Error: \n",
      " Avg loss: 0.000707 \n",
      "\n",
      "Test Error: \n",
      " Avg loss: 0.042799 \n",
      "\n",
      "Adjusting learning rate of group 0 to 9.3815e-04.\n",
      "Epoch: 17\n",
      "\n",
      "Train Error: \n",
      " Avg loss: 0.000234 \n",
      "\n",
      "Test Error: \n",
      " Avg loss: 0.046020 \n",
      "\n",
      "Adjusting learning rate of group 0 to 9.3037e-04.\n",
      "Epoch: 18\n",
      "\n",
      "Train Error: \n",
      " Avg loss: 0.000149 \n",
      "\n",
      "Test Error: \n",
      " Avg loss: 0.046872 \n",
      "\n",
      "Adjusting learning rate of group 0 to 9.2216e-04.\n",
      "Epoch: 19\n",
      "\n",
      "Train Error: \n",
      " Avg loss: 0.000121 \n",
      "\n",
      "Test Error: \n",
      " Avg loss: 0.047793 \n",
      "\n",
      "Adjusting learning rate of group 0 to 9.1354e-04.\n",
      "Epoch: 20\n",
      "\n",
      "Train Error: \n",
      " Avg loss: 0.000103 \n",
      "\n",
      "Test Error: \n",
      " Avg loss: 0.048640 \n",
      "\n",
      "Adjusting learning rate of group 0 to 9.0451e-04.\n",
      "Epoch: 21\n",
      "\n",
      "Train Error: \n",
      " Avg loss: 0.000090 \n",
      "\n",
      "Test Error: \n",
      " Avg loss: 0.049397 \n",
      "\n",
      "Adjusting learning rate of group 0 to 8.9508e-04.\n",
      "Epoch: 22\n",
      "\n",
      "Train Error: \n",
      " Avg loss: 0.000080 \n",
      "\n",
      "Test Error: \n",
      " Avg loss: 0.050082 \n",
      "\n",
      "Adjusting learning rate of group 0 to 8.8526e-04.\n",
      "Epoch: 23\n",
      "\n",
      "Train Error: \n",
      " Avg loss: 0.000072 \n",
      "\n",
      "Test Error: \n",
      " Avg loss: 0.050715 \n",
      "\n",
      "Adjusting learning rate of group 0 to 8.7506e-04.\n",
      "Epoch: 24\n",
      "\n",
      "Train Error: \n",
      " Avg loss: 0.000065 \n",
      "\n",
      "Test Error: \n",
      " Avg loss: 0.051307 \n",
      "\n",
      "best loss: 0.03788954935069861\n"
     ]
    }
   ],
   "source": [
    "best_loss = float('inf')\n",
    "best_model_weights = None\n",
    "patience=10\n",
    "for i in range(epoch):\n",
    "    print(f\"Epoch: {i+1}\\n\")\n",
    "    model.train()\n",
    "    train_loss=0\n",
    "    train_batches=len(train_loader)\n",
    "    for batch,(x,y) in enumerate(train_loader):\n",
    "        pred=model(x).squeeze(-1)\n",
    "        loss=loss_fn(pred,y.float())\n",
    "        train_loss+=loss.item()\n",
    "        loss.backward()\n",
    "        opt.step()\n",
    "        opt.zero_grad()\n",
    "    train_loss/=train_batches\n",
    "    print(f\"Train Error: \\n Avg loss: {train_loss:>8f} \\n\")\n",
    "    model.eval()\n",
    "    test_loss=0\n",
    "    test_batches=len(val_loader)\n",
    "    with torch.no_grad():\n",
    "        for x,y in val_loader:\n",
    "            pred=model(x).squeeze(-1)\n",
    "            test_loss += loss_fn(pred,y.float()).item()\n",
    "    test_loss /= test_batches\n",
    "    print(f\"Test Error: \\n Avg loss: {test_loss:>8f} \\n\")\n",
    "    if test_loss<best_loss:\n",
    "        best_loss=test_loss\n",
    "        best_model_weights=model.state_dict()\n",
    "        patience=10\n",
    "    else:\n",
    "        patience-=1\n",
    "        if patience==0:\n",
    "            break\n",
    "    scheduler.step()\n",
    "model.load_state_dict(best_model_weights)\n",
    "print(f'best loss:', best_loss)"
   ]
  },
  {
   "cell_type": "code",
   "execution_count": 23,
   "id": "4bd7dd8b",
   "metadata": {
    "execution": {
     "iopub.execute_input": "2024-02-27T17:48:48.202090Z",
     "iopub.status.busy": "2024-02-27T17:48:48.201340Z",
     "iopub.status.idle": "2024-02-27T17:48:52.882010Z",
     "shell.execute_reply": "2024-02-27T17:48:52.880925Z"
    },
    "papermill": {
     "duration": 4.697232,
     "end_time": "2024-02-27T17:48:52.884191",
     "exception": false,
     "start_time": "2024-02-27T17:48:48.186959",
     "status": "completed"
    },
    "tags": []
   },
   "outputs": [
    {
     "data": {
      "text/plain": [
       "(0.971830985915493, 0.9880952380952381)"
      ]
     },
     "execution_count": 23,
     "metadata": {},
     "output_type": "execute_result"
    }
   ],
   "source": [
    "model.eval()\n",
    "val_preds=[]\n",
    "with torch.no_grad():\n",
    "    for x,y in val_loader:\n",
    "        pred=model(x).squeeze(-1)\n",
    "        val_preds.append(pred.cpu().numpy())\n",
    "val_preds=np.concatenate(val_preds,axis=0)    \n",
    "val_preds=np.round(val_preds)\n",
    "recall_score(y_valid.cpu().numpy(),val_preds),accuracy_score(y_valid.cpu().numpy(),val_preds)"
   ]
  },
  {
   "cell_type": "code",
   "execution_count": 24,
   "id": "fbb8b046",
   "metadata": {
    "execution": {
     "iopub.execute_input": "2024-02-27T17:48:52.911475Z",
     "iopub.status.busy": "2024-02-27T17:48:52.911101Z",
     "iopub.status.idle": "2024-02-27T17:48:57.574657Z",
     "shell.execute_reply": "2024-02-27T17:48:57.573697Z"
    },
    "papermill": {
     "duration": 4.680095,
     "end_time": "2024-02-27T17:48:57.577070",
     "exception": false,
     "start_time": "2024-02-27T17:48:52.896975",
     "status": "completed"
    },
    "tags": []
   },
   "outputs": [
    {
     "data": {
      "text/plain": [
       "(0.9848484848484849, 0.9928571428571429)"
      ]
     },
     "execution_count": 24,
     "metadata": {},
     "output_type": "execute_result"
    }
   ],
   "source": [
    "model.eval()\n",
    "test_preds=[]\n",
    "with torch.no_grad():\n",
    "    for x,y in test_loader:\n",
    "        pred=model(x).squeeze(-1)\n",
    "        test_preds.append(pred.cpu().numpy())\n",
    "test_preds=np.concatenate(test_preds,axis=0)    \n",
    "test_preds=np.round(test_preds)\n",
    "recall_score(y_test.cpu().numpy(),test_preds),accuracy_score(y_test.cpu().numpy(),test_preds)"
   ]
  },
  {
   "cell_type": "code",
   "execution_count": 25,
   "id": "68ecc7c2",
   "metadata": {
    "execution": {
     "iopub.execute_input": "2024-02-27T17:48:57.605355Z",
     "iopub.status.busy": "2024-02-27T17:48:57.604807Z",
     "iopub.status.idle": "2024-02-27T17:48:57.610923Z",
     "shell.execute_reply": "2024-02-27T17:48:57.609852Z"
    },
    "papermill": {
     "duration": 0.022218,
     "end_time": "2024-02-27T17:48:57.613202",
     "exception": false,
     "start_time": "2024-02-27T17:48:57.590984",
     "status": "completed"
    },
    "tags": []
   },
   "outputs": [],
   "source": [
    "def evaluation_parametrics(name,y_val, y_pred):\n",
    "    \n",
    "    print(\"\\n------------------------{}------------------------\\n\".format(name))\n",
    "\n",
    "    cm_test = confusion_matrix(y_val, y_pred)\n",
    "    t1 = ConfusionMatrixDisplay(cm_test)    \n",
    "    print(\"\\nClassification Report\\n\")\n",
    "    print(classification_report(y_val, y_pred))   \n",
    "    print(\"--------------------------------------------------------------------------\")\n",
    "\n",
    "    t1.plot()"
   ]
  },
  {
   "cell_type": "code",
   "execution_count": 26,
   "id": "867e792d",
   "metadata": {
    "execution": {
     "iopub.execute_input": "2024-02-27T17:48:57.641508Z",
     "iopub.status.busy": "2024-02-27T17:48:57.641216Z",
     "iopub.status.idle": "2024-02-27T17:48:58.070668Z",
     "shell.execute_reply": "2024-02-27T17:48:58.069607Z"
    },
    "papermill": {
     "duration": 0.445987,
     "end_time": "2024-02-27T17:48:58.072918",
     "exception": false,
     "start_time": "2024-02-27T17:48:57.626931",
     "status": "completed"
    },
    "tags": []
   },
   "outputs": [
    {
     "name": "stdout",
     "output_type": "stream",
     "text": [
      "\n",
      "------------------------Confusion Matrix - Validation Dataset------------------------\n",
      "\n",
      "\n",
      "Classification Report\n",
      "\n",
      "              precision    recall  f1-score   support\n",
      "\n",
      "           0       0.99      0.99      0.99       349\n",
      "           1       0.96      0.97      0.97        71\n",
      "\n",
      "    accuracy                           0.99       420\n",
      "   macro avg       0.98      0.98      0.98       420\n",
      "weighted avg       0.99      0.99      0.99       420\n",
      "\n",
      "--------------------------------------------------------------------------\n"
     ]
    },
    {
     "data": {
      "image/png": "[encoded data removed]",
      "text/plain": [
       "<Figure size 640x480 with 2 Axes>"
      ]
     },
     "metadata": {},
     "output_type": "display_data"
    }
   ],
   "source": [
    "evaluation_parametrics(\"Confusion Matrix - Validation Dataset\", y_valid.cpu().numpy(), val_preds)"
   ]
  },
  {
   "cell_type": "code",
   "execution_count": 27,
   "id": "cb636aa0",
   "metadata": {
    "execution": {
     "iopub.execute_input": "2024-02-27T17:48:58.102322Z",
     "iopub.status.busy": "2024-02-27T17:48:58.101891Z",
     "iopub.status.idle": "2024-02-27T17:48:58.341365Z",
     "shell.execute_reply": "2024-02-27T17:48:58.340439Z"
    },
    "papermill": {
     "duration": 0.256013,
     "end_time": "2024-02-27T17:48:58.343342",
     "exception": false,
     "start_time": "2024-02-27T17:48:58.087329",
     "status": "completed"
    },
    "tags": []
   },
   "outputs": [
    {
     "name": "stdout",
     "output_type": "stream",
     "text": [
      "\n",
      "------------------------Confusion Matrix - Test Dataset------------------------\n",
      "\n",
      "\n",
      "Classification Report\n",
      "\n",
      "              precision    recall  f1-score   support\n",
      "\n",
      "           0       1.00      0.99      1.00       354\n",
      "           1       0.97      0.98      0.98        66\n",
      "\n",
      "    accuracy                           0.99       420\n",
      "   macro avg       0.98      0.99      0.99       420\n",
      "weighted avg       0.99      0.99      0.99       420\n",
      "\n",
      "--------------------------------------------------------------------------\n"
     ]
    },
    {
     "data": {
      "image/png": "[encoded data removed]",
      "text/plain": [
       "<Figure size 640x480 with 2 Axes>"
      ]
     },
     "metadata": {},
     "output_type": "display_data"
    }
   ],
   "source": [
    "evaluation_parametrics(\"Confusion Matrix - Test Dataset\", y_test.cpu().numpy(), test_preds)"
   ]
  }
 ],
 "metadata": {
  "kaggle": {
   "accelerator": "nvidiaTeslaT4",
   "dataSources": [
    {
     "datasetId": 891819,
     "sourceId": 2332307,
     "sourceType": "datasetVersion"
    }
   ],
   "dockerImageVersionId": 30648,
   "isGpuEnabled": true,
   "isInternetEnabled": true,
   "language": "python",
   "sourceType": "notebook"
  },
  "kernelspec": {
   "display_name": "Python 3",
   "language": "python",
   "name": "python3"
  },
  "language_info": {
   "codemirror_mode": {
    "name": "ipython",
    "version": 3
   },
   "file_extension": ".py",
   "mimetype": "text/x-python",
   "name": "python",
   "nbconvert_exporter": "python",
   "pygments_lexer": "ipython3",
   "version": "3.10.13"
  },
  "papermill": {
   "default_parameters": {},
   "duration": 2905.661085,
   "end_time": "2024-02-27T17:49:00.885194",
   "environment_variables": {},
   "exception": null,
   "input_path": "__notebook__.ipynb",
   "output_path": "__notebook__.ipynb",
   "parameters": {},
   "start_time": "2024-02-27T17:00:35.224109",
   "version": "2.5.0"
  }
 },
 "nbformat": 4,
 "nbformat_minor": 5
}
